{
 "cells": [
  {
   "cell_type": "markdown",
   "metadata": {},
   "source": [
    "# Classification\n",
    "\n",
    "## Machine Leanring BenchMark ?\n",
    "- MNIST dataset( hand writing digit )\n",
    "\n",
    "![img1](img/mnist.png)\n",
    "## Purpose\n",
    "이번 프로젝트에서는 머신러닝 classification Model의 벤치마크로 활용되는 MNIST dataset을 이용하여 sklearn 라이브러리를 사용해 다음과 같은 머신러닝 topic에 대해 코드구현과 함께 이해하고자 한다.\n",
    "\n",
    "- Class label Imblance\n",
    "- Precision / Recall Curve(PR Curve)\n",
    "- ROC Curve\n",
    "- Confusion Matrix\n",
    "- Error Analyze( using confusion matrix )\n",
    "- Binary Classifier\n",
    "- Multivalued Classifier\n",
    "- Multi-label Classifier\n",
    "- Multi-output Classifier\n",
    "\n",
    "class label이 두개인 경우(True or False로 표현할 수 있는 경우)와 class label이 두개이상인 경우로 나누어 MNIST dataset을 분석한다."
   ]
  },
  {
   "cell_type": "code",
   "execution_count": 1,
   "metadata": {
    "collapsed": true
   },
   "outputs": [],
   "source": [
    "from sklearn.datasets import fetch_mldata"
   ]
  },
  {
   "cell_type": "code",
   "execution_count": 2,
   "metadata": {
    "collapsed": true
   },
   "outputs": [],
   "source": [
    "mnist = fetch_mldata('MNIST original')"
   ]
  },
  {
   "cell_type": "code",
   "execution_count": 3,
   "metadata": {},
   "outputs": [
    {
     "data": {
      "text/plain": [
       "{'COL_NAMES': ['label', 'data'],\n",
       " 'DESCR': 'mldata.org dataset: mnist-original',\n",
       " 'data': array([[0, 0, 0, ..., 0, 0, 0],\n",
       "        [0, 0, 0, ..., 0, 0, 0],\n",
       "        [0, 0, 0, ..., 0, 0, 0],\n",
       "        ..., \n",
       "        [0, 0, 0, ..., 0, 0, 0],\n",
       "        [0, 0, 0, ..., 0, 0, 0],\n",
       "        [0, 0, 0, ..., 0, 0, 0]], dtype=uint8),\n",
       " 'target': array([ 0.,  0.,  0., ...,  9.,  9.,  9.])}"
      ]
     },
     "execution_count": 3,
     "metadata": {},
     "output_type": "execute_result"
    }
   ],
   "source": [
    "mnist"
   ]
  },
  {
   "cell_type": "markdown",
   "metadata": {},
   "source": [
    "### Use sklearn MNIST dataset\n",
    "1. DESCR : dataset을 설명해 주는 속성.\n",
    "2. data : vector로 이루어진 datase.\n",
    "3. target : class label."
   ]
  },
  {
   "cell_type": "code",
   "execution_count": 4,
   "metadata": {
    "collapsed": true
   },
   "outputs": [],
   "source": [
    "X, y = mnist['data'], mnist['target']"
   ]
  },
  {
   "cell_type": "code",
   "execution_count": 5,
   "metadata": {},
   "outputs": [
    {
     "data": {
      "text/plain": [
       "(70000, 784)"
      ]
     },
     "execution_count": 5,
     "metadata": {},
     "output_type": "execute_result"
    }
   ],
   "source": [
    "X.shape"
   ]
  },
  {
   "cell_type": "markdown",
   "metadata": {},
   "source": [
    "70,000개의 data tuple, 28 x 28 개의 feature."
   ]
  },
  {
   "cell_type": "code",
   "execution_count": 6,
   "metadata": {},
   "outputs": [
    {
     "data": {
      "text/plain": [
       "(70000,)"
      ]
     },
     "execution_count": 6,
     "metadata": {},
     "output_type": "execute_result"
    }
   ],
   "source": [
    "y.shape"
   ]
  },
  {
   "cell_type": "code",
   "execution_count": 7,
   "metadata": {},
   "outputs": [
    {
     "data": {
      "image/png": "[encoded data removed]",
      "text/plain": [
       "<matplotlib.figure.Figure at 0x12a11ee550>"
      ]
     },
     "metadata": {},
     "output_type": "display_data"
    }
   ],
   "source": [
    "%matplotlib inline\n",
    "import matplotlib\n",
    "import matplotlib.pyplot as plt\n",
    "\n",
    "some_digit = X[36000]\n",
    "some_digit_image = some_digit.reshape(28,28)\n",
    "\n",
    "def plot_digit(data):\n",
    "    image = data.reshape(28, 28)\n",
    "    plt.imshow(image, cmap = matplotlib.cm.binary,\n",
    "               interpolation=\"nearest\")\n",
    "    plt.axis(\"off\")\n",
    "plot_digit(some_digit)"
   ]
  },
  {
   "cell_type": "markdown",
   "metadata": {},
   "source": [
    "### matplotlib\n",
    "- matplotlib를 이용하여 특정 index의 data를 시각화.\n",
    "- 흑백 binary pixel로 이루어진 이미지를 확인할 수 있음."
   ]
  },
  {
   "cell_type": "code",
   "execution_count": 8,
   "metadata": {},
   "outputs": [
    {
     "data": {
      "text/plain": [
       "5.0"
      ]
     },
     "execution_count": 8,
     "metadata": {},
     "output_type": "execute_result"
    }
   ],
   "source": [
    "# 위 데이터의 class label이 무엇인지 확인\n",
    "y[36000]"
   ]
  },
  {
   "cell_type": "markdown",
   "metadata": {},
   "source": [
    "### Training dataset, Test dataset 분할"
   ]
  },
  {
   "cell_type": "code",
   "execution_count": 9,
   "metadata": {
    "collapsed": true
   },
   "outputs": [],
   "source": [
    "X_train,X_test,y_train,y_test = X[:60000],X[60000:],y[:60000],y[60000:]"
   ]
  },
  {
   "cell_type": "markdown",
   "metadata": {},
   "source": [
    "numpy 라이브러리를 활용하여 Model의 학습과정을 랜덤한 데이터 순서로 이루어지게 셋팅."
   ]
  },
  {
   "cell_type": "code",
   "execution_count": 10,
   "metadata": {
    "collapsed": true
   },
   "outputs": [],
   "source": [
    "import numpy as np\n",
    "shuffle_index = np.random.permutation(60000)"
   ]
  },
  {
   "cell_type": "code",
   "execution_count": 11,
   "metadata": {},
   "outputs": [
    {
     "data": {
      "text/plain": [
       "array([49760, 32365, 23850, ..., 40221, 29313, 42355])"
      ]
     },
     "execution_count": 11,
     "metadata": {},
     "output_type": "execute_result"
    }
   ],
   "source": [
    "shuffle_index"
   ]
  },
  {
   "cell_type": "code",
   "execution_count": 12,
   "metadata": {
    "collapsed": true
   },
   "outputs": [],
   "source": [
    "X_train,y_train = X_train[shuffle_index],y_train[shuffle_index]"
   ]
  },
  {
   "cell_type": "markdown",
   "metadata": {},
   "source": [
    "## Classifier\n",
    "- Binary Classifier\n",
    "- Multi-valued Classifier"
   ]
  },
  {
   "cell_type": "markdown",
   "metadata": {},
   "source": [
    "### First, 5 - Detector \n",
    "- data가 '5'인지 아닌지를 True or False로 classify"
   ]
  },
  {
   "cell_type": "code",
   "execution_count": 13,
   "metadata": {
    "collapsed": true
   },
   "outputs": [],
   "source": [
    "y_train_5 = (y_train ==5 )"
   ]
  },
  {
   "cell_type": "code",
   "execution_count": 14,
   "metadata": {},
   "outputs": [
    {
     "data": {
      "text/plain": [
       "array([False,  True, False, ..., False, False, False], dtype=bool)"
      ]
     },
     "execution_count": 14,
     "metadata": {},
     "output_type": "execute_result"
    }
   ],
   "source": [
    "y_train_5"
   ]
  },
  {
   "cell_type": "code",
   "execution_count": 15,
   "metadata": {
    "collapsed": true
   },
   "outputs": [],
   "source": [
    "y_test_5 = (y_test == 5)"
   ]
  },
  {
   "cell_type": "markdown",
   "metadata": {},
   "source": [
    "## Stochastic Gradient Descent( SGD )\n",
    "- 전체 데이터를 사용하여 Model의 parameter를 update하지 않고 데이터 중 일부를 사용하여 parameter를 update하는 방식.\n",
    "- 즉, all_batch가 아닌 mini_batch를 사용한다.\n",
    "- SGD는 online_learning으로써 한개의 데이터 단위로 Model을 학습하며, 이 때 정의한 loss function이 최소를 갖게하는 parameter를 구한다."
   ]
  },
  {
   "cell_type": "code",
   "execution_count": 16,
   "metadata": {},
   "outputs": [
    {
     "data": {
      "text/plain": [
       "SGDClassifier(alpha=0.0001, average=False, class_weight=None, epsilon=0.1,\n",
       "       eta0=0.0, fit_intercept=True, l1_ratio=0.15,\n",
       "       learning_rate='optimal', loss='hinge', n_iter=5, n_jobs=1,\n",
       "       penalty='l2', power_t=0.5, random_state=11, shuffle=True, verbose=0,\n",
       "       warm_start=False)"
      ]
     },
     "execution_count": 16,
     "metadata": {},
     "output_type": "execute_result"
    }
   ],
   "source": [
    "from sklearn.linear_model import SGDClassifier\n",
    "\n",
    "sgd_clf = SGDClassifier(random_state=11)\n",
    "sgd_clf.fit(X_train,y_train_5)"
   ]
  },
  {
   "cell_type": "markdown",
   "metadata": {},
   "source": [
    "### Performance Measures\n",
    "- k-fold cross validation"
   ]
  },
  {
   "cell_type": "code",
   "execution_count": 17,
   "metadata": {},
   "outputs": [
    {
     "data": {
      "text/plain": [
       "array([ 0.96445,  0.96755,  0.9645 ])"
      ]
     },
     "execution_count": 17,
     "metadata": {},
     "output_type": "execute_result"
    }
   ],
   "source": [
    "from sklearn.model_selection import cross_val_score\n",
    "cross_val_score(sgd_clf,X_train,y_train_5,cv=3,scoring='accuracy')"
   ]
  },
  {
   "cell_type": "markdown",
   "metadata": {},
   "source": [
    "위 k-fold cross validation을 통해, 각 fold에서 추정한 accuracy가 95% 이상인 값을 얻었다. 얻어진 결과를 보면 만들어진 Model이 매우 좋은 것 같지만, class label이 비대칭 속성인 경우 다음과 같은 문제가 발생할 수 있다.\n",
    "\n",
    "## class label imbalance problem\n",
    "기존의 MNIST dataset은 1~9의 class label로 이루어진 데이터이지만, 위 모델(5-detect)는 class label로 해당  data가 5인지 아닌지를 True or False로 class label을 나타내었다.<br/>\n",
    "이 부분에서, dataset의 class label 분포가 True인 것은 10%남짓, False인것은 90% 가까운 분포를 갖게 된다.\n",
    "결과적으로, 모든 dataset에 대해서 아무런 학습도 하지않고 단순히 Falase라고 예측하면 accuracy가 90%에 가까운 결과를 얻게 된다.\n",
    "위와 같은 결과는 class label의 분포가 비대칭 한 경우 올바른 Performance measurement 방법이 아니다."
   ]
  },
  {
   "cell_type": "code",
   "execution_count": 18,
   "metadata": {
    "collapsed": true
   },
   "outputs": [],
   "source": [
    "from sklearn.base import BaseEstimator\n",
    "\n",
    "class Never5Classifier(BaseEstimator):\n",
    "    def fit(self,X,y=None):\n",
    "        pass\n",
    "    def predict(self,X):\n",
    "        return np.zeros((len(X),1),dtype=bool)"
   ]
  },
  {
   "cell_type": "code",
   "execution_count": 19,
   "metadata": {},
   "outputs": [
    {
     "data": {
      "text/plain": [
       "array([ 0.90905,  0.9103 ,  0.9096 ])"
      ]
     },
     "execution_count": 19,
     "metadata": {},
     "output_type": "execute_result"
    }
   ],
   "source": [
    "never_5_clf = Never5Classifier()\n",
    "cross_val_score(never_5_clf,X_train,y_train_5,cv=3,scoring='accuracy')\n",
    "# 위 모델은 모든 dataset에 대해 class label이 5가 아님.(Fasle)라고 예측하지만 측정된 accuracy는 90%가 넘는다."
   ]
  },
  {
   "cell_type": "markdown",
   "metadata": {},
   "source": [
    "## Confusion Matrix\n",
    "위 문제에 대해 다른 Performance Measure 방식이 요구되는데, 이 요구사항에 부합하는 것이 Confusion Matrix이다.\n",
    "Confusion Matrix는 실제 데이터의 class label과 Model을 통해 예측된 prediction 값들의 2차원 table으로써, class label이 True였을때, 혹은 False였을 때 Model은 무엇이라 예측하는 지를 관찰 할 수 있다. Confusion Matrix는 accuracy 이외에도 다음과 같은 평가지표(criteria)를 사용한다\n",
    "\n",
    "TP : True Positive, FP : False Positive, TN : True Negative, FN : False Negative\n",
    "\n",
    "- Accuracy\n",
    "- Error rate\n",
    "- Sensitivity : TP / P\n",
    "- Specificity : TN / N\n",
    "- Presicion : TP / (TP + FP ) = TP / P'\n",
    "- Recall : TP / (TP+ FN) == TP / P\n",
    "- F, F(beta) : Precision과 Recall의 조화평균"
   ]
  },
  {
   "cell_type": "code",
   "execution_count": 20,
   "metadata": {},
   "outputs": [
    {
     "data": {
      "text/plain": [
       "array([False,  True, False, ..., False, False, False], dtype=bool)"
      ]
     },
     "execution_count": 20,
     "metadata": {},
     "output_type": "execute_result"
    }
   ],
   "source": [
    "from sklearn.model_selection import cross_val_predict\n",
    "y_train_pred = cross_val_predict(sgd_clf,X_train,y_train_5,cv=3)\n",
    "y_train_pred"
   ]
  },
  {
   "cell_type": "code",
   "execution_count": 21,
   "metadata": {},
   "outputs": [
    {
     "data": {
      "text/plain": [
       "array([[53889,   690],\n",
       "       [ 1380,  4041]])"
      ]
     },
     "execution_count": 21,
     "metadata": {},
     "output_type": "execute_result"
    }
   ],
   "source": [
    "from sklearn.metrics import confusion_matrix\n",
    "confusion_matrix(y_train_5,y_train_pred)"
   ]
  },
  {
   "cell_type": "markdown",
   "metadata": {},
   "source": [
    "위 Confusion Matrix는 아래와 같은 table 구조를 갖는다.<br/>"
   ]
  },
  {
   "cell_type": "markdown",
   "metadata": {},
   "source": [
    "|Tables   |No|  Yes  |\n",
    "|---------|------|-------|\n",
    "|No       | TN  | FP  |\n",
    "|Yes      |  FN |  TP |\n"
   ]
  },
  {
   "cell_type": "markdown",
   "metadata": {},
   "source": [
    "## Precision ( False Positive의 cost를 나타내는 지표)\n",
    "Precision = TP / (TP + FP) 또는 TP / P' 으로 표현된다.\n",
    "즉, 위 지표는 Model이 실제 class label은 False이지만 True라고 분류한 경우인 False Positive에 대한 cost를 표현한다.\n",
    "\n",
    "위 dataset을 예로 들면, Precision = 4122 / 4122 + 3401 이다."
   ]
  },
  {
   "cell_type": "markdown",
   "metadata": {},
   "source": [
    "## Recall ( False Negative의 cost를 나타내는 지표 )\n",
    "Recall = TP / (TP+FN ) 또는 TP / P 으로 표현된다. 즉, 위 지표는 Model이 실제 class label은 True이지만 False라고 분류한 경우인 False Negative에 대한 cost를 표현한다.\n",
    "\n",
    "위 dataset을 예로 들면, Recall = 4122 / ( 4122 + 1299 ) 이다."
   ]
  },
  {
   "cell_type": "markdown",
   "metadata": {},
   "source": [
    "## 결론\n",
    "데이터 분석에 있어서 위 지표를 활용하여 Model Selection 과정에 있어, 적용하고자 하는 Application이 FP,FN에 대한 비용(cost)가 무엇이 더 클지, weight는 어떻게 되는지를 판단해서 좋은 모델을 선택 할 수 있다.\n",
    "\n",
    "예를 들어, 임의의 질병에 대한 양성,음성 판독기를 만들고자 할 때,\n",
    "False Positive는 정상인을 질병이 있다고 판정한 경우이고\n",
    "False Negative는 환자를 정상인이라고 판정한 경우 이므로\n",
    "FN가 FP보다 더 큰 cost를 지닌다고 할 수 있으므로, dataset를 통해 만들어진 Model중 Precision보다 Recall에서 우수한 성능을 보이는 Model을 선택하는 것이 바람직하다."
   ]
  },
  {
   "cell_type": "code",
   "execution_count": 22,
   "metadata": {},
   "outputs": [
    {
     "data": {
      "text/plain": [
       "0.85415345592897907"
      ]
     },
     "execution_count": 22,
     "metadata": {},
     "output_type": "execute_result"
    }
   ],
   "source": [
    "from sklearn.metrics import precision_score,recall_score\n",
    "precision_score(y_train_5,y_train_pred)"
   ]
  },
  {
   "cell_type": "code",
   "execution_count": 23,
   "metadata": {},
   "outputs": [
    {
     "data": {
      "text/plain": [
       "0.74543442169341445"
      ]
     },
     "execution_count": 23,
     "metadata": {},
     "output_type": "execute_result"
    }
   ],
   "source": [
    "recall_score(y_train_5,y_train_pred)"
   ]
  },
  {
   "cell_type": "markdown",
   "metadata": {},
   "source": [
    "### F1, F(beta)\n",
    "- Precision과 Recall에 임의의 가중치를 두어 FP,FN에 대한 cost를 측정하는 지표.\n",
    "- F1은 Precision과 Recall에 1:1의 weight를 가정했을때의 지표를 의미한다."
   ]
  },
  {
   "cell_type": "code",
   "execution_count": 24,
   "metadata": {},
   "outputs": [
    {
     "data": {
      "text/plain": [
       "0.79609929078014174"
      ]
     },
     "execution_count": 24,
     "metadata": {},
     "output_type": "execute_result"
    }
   ],
   "source": [
    "from sklearn.metrics import f1_score\n",
    "f1_score(y_train_5,y_train_pred)"
   ]
  },
  {
   "cell_type": "markdown",
   "metadata": {},
   "source": [
    "## Precision / Recall TradeOff\n",
    "- decision function\n",
    "- decision score\n",
    "- threshold\n",
    "\n",
    "SGD Classifier는 data tuple을 분류하는 원리는 다음과 같다.\n",
    "SGD는 training을 마친후, unknown data에 대하여 decision function으로부터 decision score를 구하고, 얻어진 decision score > threshold 이면 해당 데이터를 Positive로 분류하고, decision score < threshold 이면 해당 데이터를 Negative로 분류한다.\n",
    "따라서, SGD Model에 threshold를 높은 값을 설정하게 되면, Positive 판정을 좀 더 엄격하게 한다는 의미이므로 FP가 낮아져, Precision이 상승하게 된다. 그러나, 엄격한 Positive 판정 탓에, Recall = TP / P 에서 True Positive의 절대량값은 상대적으로 감소할 것이므로 Recall은 감소한다.\n",
    "\n",
    "즉, Precision과 Recall은 서로 Trade off관계에 있다.<br/>\n",
    "threshold 높을수록 Precision 상승, Recall 감소<br/>\n",
    "threshold 낮을수록 Precision 감소, Recall 상승<br/>\n"
   ]
  },
  {
   "cell_type": "code",
   "execution_count": 25,
   "metadata": {},
   "outputs": [
    {
     "data": {
      "text/plain": [
       "array([ 159269.61980567])"
      ]
     },
     "execution_count": 25,
     "metadata": {},
     "output_type": "execute_result"
    }
   ],
   "source": [
    "some_digit_score = sgd_clf.decision_function([some_digit])\n",
    "some_digit_score"
   ]
  },
  {
   "cell_type": "code",
   "execution_count": 26,
   "metadata": {},
   "outputs": [
    {
     "data": {
      "text/plain": [
       "array([ True], dtype=bool)"
      ]
     },
     "execution_count": 26,
     "metadata": {},
     "output_type": "execute_result"
    }
   ],
   "source": [
    "threshold = 0\n",
    "some_digit_pred = (some_digit_score > threshold)\n",
    "some_digit_pred"
   ]
  },
  {
   "cell_type": "code",
   "execution_count": 27,
   "metadata": {},
   "outputs": [
    {
     "data": {
      "text/plain": [
       "array([False], dtype=bool)"
      ]
     },
     "execution_count": 27,
     "metadata": {},
     "output_type": "execute_result"
    }
   ],
   "source": [
    "threshold = 200000\n",
    "some_digit_pred = (some_digit_score > threshold)\n",
    "some_digit_pred"
   ]
  },
  {
   "cell_type": "markdown",
   "metadata": {},
   "source": [
    "## Precision / Recall Curve\n",
    "- X축을 decision score으로 하여, threshold의 값에 따라 Precision과 Recall의 값과 변화를 확인할 수 있는 그래프.\n",
    "- Trade off 관계를 확인할 수 있다."
   ]
  },
  {
   "cell_type": "code",
   "execution_count": 28,
   "metadata": {},
   "outputs": [
    {
     "data": {
      "image/png": "[encoded data removed]",
      "text/plain": [
       "<matplotlib.figure.Figure at 0x12aa60fcf8>"
      ]
     },
     "metadata": {},
     "output_type": "display_data"
    }
   ],
   "source": [
    "y_scores = cross_val_predict(sgd_clf,X_train,y_train_5,cv=3,method='decision_function')\n",
    "from sklearn.metrics import precision_recall_curve\n",
    "\n",
    "precisions,recalls,thresholds = precision_recall_curve(y_train_5,y_scores)\n",
    "def plot_precision_recall_vs_threshold(precisions,recalls,thresholds):\n",
    "    plt.plot(thresholds,precisions[:-1],'b--',label='Precision')\n",
    "    plt.plot(thresholds,recalls[:-1],'g-',label='Recall')\n",
    "    plt.xlabel('Threshold')\n",
    "    plt.legend(loc='upper left')\n",
    "    plt.ylim([0,1])\n",
    "\n",
    "plot_precision_recall_vs_threshold(precisions,recalls,thresholds)\n",
    "plt.show()"
   ]
  },
  {
   "cell_type": "markdown",
   "metadata": {},
   "source": [
    "따라서, 위 PR Curve를 통해 Application에 적용할 Model을 선택하고자 할 때 Precision과 Recall값을 threshold 값에 따라 확인 할 수 있으므로, 최적의 Precision, Recall 값을 얻는 Threshold를 선택할 수 있다."
   ]
  },
  {
   "cell_type": "markdown",
   "metadata": {},
   "source": [
    "## ROC Curve\n",
    "- Receiver Operating Characteristic (ROC) Curve의 준말로써 PR Curve와 같이 class label이 Imbalance한 분포를 가질 경우 Model을 평가하기 위한 방법 중 하나로써 사용된다.\n",
    "- ROC Curve는 Model을 평가하고자 하는 척도로써 TPR(True Positive Rate,Recall)과 FPR(False Positive Rate)를 사용한다.\n",
    "\n",
    "TPR은 Recall과 동일하게 TP / P 값을 갖고 False Negative에 대한 cost를 나타낸다.\n",
    "FPR은 FP / N 값을 의미하며, 1 - Specificity ( 1- N / TN ) 과 동일한 의미이며 False Positive에 대한 cost를 나타낸다."
   ]
  },
  {
   "cell_type": "code",
   "execution_count": 29,
   "metadata": {},
   "outputs": [
    {
     "data": {
      "image/png": "[encoded data removed]",
      "text/plain": [
       "<matplotlib.figure.Figure at 0x12aa66a978>"
      ]
     },
     "metadata": {},
     "output_type": "display_data"
    }
   ],
   "source": [
    "from sklearn.metrics import roc_curve\n",
    "fpr,tpr,thresholds = roc_curve(y_train_5,y_scores)\n",
    "\n",
    "def plot_roc_curve(fpr,tpr,label=None):\n",
    "    plt.plot(fpr,tpr,linewidth=2,label=label)\n",
    "    plt.plot([0,1],[0,1],'k--')\n",
    "    plt.axis([0,1,0,1])\n",
    "    plt.xlabel('False Positive Rate')\n",
    "    plt.ylabel('True Positive Rate')\n",
    "\n",
    "plot_roc_curve(fpr,tpr)\n",
    "plt.show()"
   ]
  },
  {
   "cell_type": "markdown",
   "metadata": {},
   "source": [
    "ROC Curve도 PR Curve와 유사하게 TPR과 FPR이 서로 trade off 관계에 있음을 확인할 수 있다.\n",
    "즉, TPR이 커지면(FN가 최소화되면) FPR이 작아진다.(FP가 커진다.)\n",
    "점선으로 표시된 직선은 data tuple을 완전히 랜덤하게 분류했을 경우를 나타낸다. 따라서, 좋은 Model이란 FP,FN이 적은 모델을 의미하므로 점선과 표시된 선에 최대한 멀리 떨어져 좌측상단에 근접하는 것이다. ( 가장 큰 면적을 지닌다. )\n"
   ]
  },
  {
   "cell_type": "markdown",
   "metadata": {},
   "source": [
    "### ROC AUC\n",
    "- ROC Curve는 Model의 성능평가를 곡선에 해당하는 면적으로 구한다.\n",
    "- ROC Area Under the Curve"
   ]
  },
  {
   "cell_type": "code",
   "execution_count": 30,
   "metadata": {},
   "outputs": [
    {
     "data": {
      "text/plain": [
       "0.96413011107926949"
      ]
     },
     "execution_count": 30,
     "metadata": {},
     "output_type": "execute_result"
    }
   ],
   "source": [
    "from sklearn.metrics import roc_auc_score\n",
    "roc_auc_score(y_train_5,y_scores)"
   ]
  },
  {
   "cell_type": "markdown",
   "metadata": {},
   "source": [
    "## RandomForest\n",
    "- Decision Tree Model을 여러개 사용하여 최종적으로 각 Model의 결과를 모두 취합하여 class label을 예측하는 Ensemble방법의 일종"
   ]
  },
  {
   "cell_type": "code",
   "execution_count": 31,
   "metadata": {
    "collapsed": true
   },
   "outputs": [],
   "source": [
    "from sklearn.ensemble import RandomForestClassifier\n",
    "\n",
    "forest_clf = RandomForestClassifier(random_state=11)\n",
    "y_probs_forest = cross_val_predict(forest_clf,X_train,y_train_5,cv=3,method='predict_proba')"
   ]
  },
  {
   "cell_type": "code",
   "execution_count": 32,
   "metadata": {
    "collapsed": true
   },
   "outputs": [],
   "source": [
    "y_socres_forest = y_probs_forest[:,1]\n",
    "fpr_forest,tpr_forest,thresholds_forest = roc_curve(y_train_5,y_socres_forest)"
   ]
  },
  {
   "cell_type": "markdown",
   "metadata": {},
   "source": [
    "## SGD Classifier와 RandomForest Classifier 간 성능비교 ( ROC Curve )"
   ]
  },
  {
   "cell_type": "markdown",
   "metadata": {},
   "source": [
    "plt.plot(fpr,tpr,'b:',label='SGD')\n",
    "plot_roc_curve(fpr_forest,tpr_forest,'Random Forest')\n",
    "plt.legend(loc='lower right')\n",
    "plt.show()"
   ]
  },
  {
   "cell_type": "code",
   "execution_count": 33,
   "metadata": {},
   "outputs": [
    {
     "data": {
      "text/plain": [
       "0.99265063972989809"
      ]
     },
     "execution_count": 33,
     "metadata": {},
     "output_type": "execute_result"
    }
   ],
   "source": [
    "roc_auc_score(y_train_5,y_socres_forest)"
   ]
  },
  {
   "cell_type": "markdown",
   "metadata": {},
   "source": [
    "Ensemble 방법인 RadomForest Classifier 방법이 SGD Classifier 보다 좋은 성능을 보임을 확인할 수 있다."
   ]
  },
  {
   "cell_type": "markdown",
   "metadata": {},
   "source": [
    "## Multinomial Classifier\n",
    "Multinomial Classifier는 dataset의 class label이 2개 이상인 데이터분류를 의미한다.\n",
    "본 프로젝트에서 활용되는 MNIST dataset또한 class label이 0~9로써 10개를 지녔으므로 Multinomial Classifier를 요구한다.\n",
    "\n",
    "Decision tree,RandomForest,Naive Bayes의 경우 바로 적용되는 알고리즘 자체가 별도의 처리가 필요 없이 다중 클래스 라벨을 처리 할 수 있지만,\n",
    "SGD Classifier 혹은 SVM은 바로 다중 클래스 라벨을 처리할 수 없기 떄문에 다음과 같은 과정을 거쳐 문제해결한다.\n",
    "\n",
    "### OvA(One-versus-all)\n",
    "MNIST dataset을 예로들면, (0 or not 0),(1 or not 1) ...과 같이 특정한 클래스 라벨과 그것이 아닌것에 해당하는 Binary classifier를 여러개 만든 뒤에, 각 classifier에서 얻는 예측값(sklearn : score) 중 가장 높은 것을 선택하여 Multinomial을 구현하는 방법이다.\n",
    "MINIST dataset은 class label이 10개이므로 OvA방법을 사용하면 총 10개의 Binary Classifier가 필요하다.\n",
    "\n",
    "### OvO(One-versus-One)\n",
    "MNIST dataset을 예로들면, (0 or 1),(0 or 2),...(1 or 7),(1 or 8)...의 특정한 클래스 라벨과 다른 클래스 라벨간의 Binary classifier를 여러개 만들어서 위와 동일한 방법으로 가장 높은 예측값을 얻는 것을 선택하는 방법이다. OvO는 OvA보다 좀 더 많은 갯수의 Model을 요구하여 sklearn에서는 default 값으로 OvA를 사용하게 되지만 SVM과 같이 OvA가 불가능한 경우 또는 임의로 설정하여 OvO를 사용하기도 한다."
   ]
  },
  {
   "cell_type": "code",
   "execution_count": 34,
   "metadata": {},
   "outputs": [
    {
     "data": {
      "text/plain": [
       "array([ 5.])"
      ]
     },
     "execution_count": 34,
     "metadata": {},
     "output_type": "execute_result"
    }
   ],
   "source": [
    "sgd_clf.fit(X_train,y_train)\n",
    "sgd_clf.predict([some_digit])"
   ]
  },
  {
   "cell_type": "code",
   "execution_count": 35,
   "metadata": {},
   "outputs": [
    {
     "data": {
      "text/plain": [
       "array([[-250065.47103371, -284645.87583857, -342322.7212332 ,\n",
       "        -196551.0999399 , -258914.43446822,  159269.61980567,\n",
       "        -630386.54050595, -425518.72887841, -696196.86020952,\n",
       "        -581016.81383204]])"
      ]
     },
     "execution_count": 35,
     "metadata": {},
     "output_type": "execute_result"
    }
   ],
   "source": [
    "some_digit_score = sgd_clf.decision_function([some_digit])\n",
    "some_digit_score\n",
    "# 얻어진 vector에서 index 5번째인 클래스라벨(5)를 가르키는 score가 가장 높음을 확인 할 수 있다."
   ]
  },
  {
   "cell_type": "code",
   "execution_count": 36,
   "metadata": {},
   "outputs": [
    {
     "data": {
      "text/plain": [
       "5"
      ]
     },
     "execution_count": 36,
     "metadata": {},
     "output_type": "execute_result"
    }
   ],
   "source": [
    "np.argmax(some_digit_score)"
   ]
  },
  {
   "cell_type": "code",
   "execution_count": 37,
   "metadata": {},
   "outputs": [
    {
     "data": {
      "text/plain": [
       "array([ 0.,  1.,  2.,  3.,  4.,  5.,  6.,  7.,  8.,  9.])"
      ]
     },
     "execution_count": 37,
     "metadata": {},
     "output_type": "execute_result"
    }
   ],
   "source": [
    "sgd_clf.classes_\n",
    "# 5번째 index는 5를 가르킴"
   ]
  },
  {
   "cell_type": "markdown",
   "metadata": {},
   "source": [
    "### 임의로 OvO 방법 설정"
   ]
  },
  {
   "cell_type": "code",
   "execution_count": 38,
   "metadata": {},
   "outputs": [
    {
     "data": {
      "text/plain": [
       "array([ 5.])"
      ]
     },
     "execution_count": 38,
     "metadata": {},
     "output_type": "execute_result"
    }
   ],
   "source": [
    "from sklearn.multiclass import OneVsOneClassifier\n",
    "ovo_clf = OneVsOneClassifier(SGDClassifier(random_state=11))\n",
    "ovo_clf.fit(X_train,y_train)\n",
    "ovo_clf.predict([some_digit])"
   ]
  },
  {
   "cell_type": "code",
   "execution_count": 39,
   "metadata": {},
   "outputs": [
    {
     "data": {
      "text/plain": [
       "45"
      ]
     },
     "execution_count": 39,
     "metadata": {},
     "output_type": "execute_result"
    }
   ],
   "source": [
    "len(ovo_clf.estimators_)\n",
    "# 45개의 binary classifier사용"
   ]
  },
  {
   "cell_type": "code",
   "execution_count": 40,
   "metadata": {},
   "outputs": [
    {
     "data": {
      "text/plain": [
       "array([ 5.])"
      ]
     },
     "execution_count": 40,
     "metadata": {},
     "output_type": "execute_result"
    }
   ],
   "source": [
    "forest_clf.fit(X_train,y_train)\n",
    "forest_clf.predict([some_digit])"
   ]
  },
  {
   "cell_type": "code",
   "execution_count": 41,
   "metadata": {},
   "outputs": [
    {
     "data": {
      "text/plain": [
       "array([[ 0. ,  0. ,  0. ,  0. ,  0. ,  0.9,  0.1,  0. ,  0. ,  0. ]])"
      ]
     },
     "execution_count": 41,
     "metadata": {},
     "output_type": "execute_result"
    }
   ],
   "source": [
    "forest_clf.predict_proba([some_digit])"
   ]
  },
  {
   "cell_type": "code",
   "execution_count": 42,
   "metadata": {},
   "outputs": [
    {
     "data": {
      "text/plain": [
       "array([ 0.86787642,  0.86829341,  0.87688153])"
      ]
     },
     "execution_count": 42,
     "metadata": {},
     "output_type": "execute_result"
    }
   ],
   "source": [
    "cross_val_score(sgd_clf,X_train,y_train,cv=3,scoring='accuracy')"
   ]
  },
  {
   "cell_type": "code",
   "execution_count": 43,
   "metadata": {},
   "outputs": [
    {
     "data": {
      "text/plain": [
       "array([ 0.94046191,  0.94094705,  0.93959094])"
      ]
     },
     "execution_count": 43,
     "metadata": {},
     "output_type": "execute_result"
    }
   ],
   "source": [
    "cross_val_score(forest_clf,X_train,y_train,cv=3,scoring='accuracy')"
   ]
  },
  {
   "cell_type": "markdown",
   "metadata": {},
   "source": [
    "Multinomial Classifier에 대하여 k-fold cross validation을 사용했을 때 SGD Classifier는 85%의 accuracy를, RandomForest는 94%의 accuracy를 얻음을 확인하였다."
   ]
  },
  {
   "cell_type": "markdown",
   "metadata": {},
   "source": [
    "## Data Transformation( Normalizaiton )\n",
    "Model의 학습 과정 중 error를 구하는 경우 데이터의 각 feature가 error에 기여하는 정도를 동일하게 하기 위해 각 feature들을 Normalization하여 Model의 accuracy를 향상시킨다."
   ]
  },
  {
   "cell_type": "code",
   "execution_count": 44,
   "metadata": {},
   "outputs": [
    {
     "data": {
      "text/plain": [
       "array([ 0.90976805,  0.91179559,  0.90893634])"
      ]
     },
     "execution_count": 44,
     "metadata": {},
     "output_type": "execute_result"
    }
   ],
   "source": [
    "from sklearn.preprocessing import StandardScaler\n",
    "scaler = StandardScaler()\n",
    "X_train_scaled = scaler.fit_transform(X_train.astype(np.float64))\n",
    "cross_val_score(sgd_clf,X_train_scaled,y_train,cv=3,scoring='accuracy')"
   ]
  },
  {
   "cell_type": "markdown",
   "metadata": {},
   "source": [
    "데이터 전처리 과정을 거쳐 accuracy가 향상하였음을 확인 할 수 있다."
   ]
  },
  {
   "cell_type": "markdown",
   "metadata": {
    "collapsed": true
   },
   "source": [
    "## Error Analysis\n",
    "학습 모델(Training Model)을 Model Selection과정을 통해 최적의 모델을 구하고, Validation 과정을 통해 모델의 최적의 hyperparameter를 구하고 데이터 전처리까지 모두 완료한 상황에서 좀 더 품질개선을 하려면?\n",
    "\n",
    "- Model에서 performance를 저하시키는 요인의 출처가 어디인지를 파악한다."
   ]
  },
  {
   "cell_type": "code",
   "execution_count": 45,
   "metadata": {},
   "outputs": [
    {
     "data": {
      "text/plain": [
       "array([[5746,    4,   17,   11,   10,   44,   45,    8,   35,    3],\n",
       "       [   1, 6498,   45,   23,    5,   41,    6,   11,  103,    9],\n",
       "       [  61,   38, 5320,   95,   73,   24,  100,   65,  169,   13],\n",
       "       [  45,   43,  145, 5328,    2,  235,   37,   57,  143,   96],\n",
       "       [  21,   28,   43,    8, 5342,    8,   62,   32,   86,  212],\n",
       "       [  73,   37,   37,  194,   76, 4595,  119,   27,  173,   90],\n",
       "       [  31,   24,   39,    2,   35,   88, 5652,    5,   42,    0],\n",
       "       [  22,   19,   68,   25,   51,   10,    6, 5861,   14,  189],\n",
       "       [  53,  157,   69,  146,   10,  161,   60,   30, 5029,  136],\n",
       "       [  47,   33,   29,   83,  164,   36,    3,  236,   79, 5239]])"
      ]
     },
     "execution_count": 45,
     "metadata": {},
     "output_type": "execute_result"
    }
   ],
   "source": [
    "y_train_pred = cross_val_predict(sgd_clf,X_train_scaled,y_train,cv=3)\n",
    "conf_mx = confusion_matrix(y_train,y_train_pred)\n",
    "conf_mx"
   ]
  },
  {
   "cell_type": "markdown",
   "metadata": {},
   "source": [
    "### Error visualization\n",
    "- matplotlib를 사용하여 confusion_matrix를 visualization\n",
    "- 각 cell이 black에 가까울 경우 빈도가 적은 것이고, 흰색에 가까울 수록 빈도가 많음을 의미.\n",
    "- 대각선 cell은 prediction과 실제 데이터값이 서로 일치하는 경우로써 가장 많은 빈도를 나타냄을 확인할 수 있다.\n",
    "- 위 대각선 cell 중 숫자 '5'에 해당하는 cell은 다른 대각선보다 상대적으로 음영이 진 것으로 보아 Model이 class label이 '5'에 해당하는 경우 다른 숫자에 비해 classificaion 성능이 떨어진다고 판단할 수 있다."
   ]
  },
  {
   "cell_type": "code",
   "execution_count": 46,
   "metadata": {},
   "outputs": [
    {
     "data": {
      "image/png": "[encoded data removed]",
      "text/plain": [
       "<matplotlib.figure.Figure at 0x12ab816898>"
      ]
     },
     "metadata": {},
     "output_type": "display_data"
    }
   ],
   "source": [
    "plt.matshow(conf_mx,cmap=plt.cm.gray)\n",
    "plt.show()"
   ]
  },
  {
   "cell_type": "markdown",
   "metadata": {},
   "source": [
    "위 시각화는 각 class label의 분포. 즉, 각 class label에 속하는 데이터 tuple의 절대량에 의존하므로, 각 columns에 대해 normalization하여 Model이 각 class label에 대한 classification 성능을 상대량으로 알아보도록 한다. "
   ]
  },
  {
   "cell_type": "code",
   "execution_count": 47,
   "metadata": {
    "collapsed": true
   },
   "outputs": [],
   "source": [
    "row_sums = conf_mx.sum(axis=1,keepdims=True)"
   ]
  },
  {
   "cell_type": "code",
   "execution_count": 48,
   "metadata": {},
   "outputs": [],
   "source": [
    "norm_conf_mx = conf_mx / row_sums"
   ]
  },
  {
   "cell_type": "code",
   "execution_count": 50,
   "metadata": {},
   "outputs": [
    {
     "data": {
      "text/plain": [
       "<matplotlib.image.AxesImage at 0x12ac5cb5c0>"
      ]
     },
     "execution_count": 50,
     "metadata": {},
     "output_type": "execute_result"
    },
    {
     "data": {
      "image/png": "[encoded data removed]",
      "text/plain": [
       "<matplotlib.figure.Figure at 0x12ac562a58>"
      ]
     },
     "metadata": {},
     "output_type": "display_data"
    }
   ],
   "source": [
    "np.fill_diagonal(norm_conf_mx,0)\n",
    "plt.matshow(norm_conf_mx,cmap=plt.cm.gray)"
   ]
  },
  {
   "cell_type": "code",
   "execution_count": 51,
   "metadata": {},
   "outputs": [
    {
     "data": {
      "image/png": "[encoded data removed]",
      "text/plain": [
       "<matplotlib.figure.Figure at 0x12aa763208>"
      ]
     },
     "metadata": {},
     "output_type": "display_data"
    }
   ],
   "source": [
    "cl_a,cl_b = 3,5\n",
    "X_aa = X_train[(y_train == cl_a) & (y_train_pred == cl_a)]\n",
    "X_ab = X_train[(y_train == cl_a) & (y_train_pred == cl_b)]\n",
    "X_ba = X_train[(y_train == cl_b) & (y_train_pred == cl_a)]\n",
    "X_bb = X_train[(y_train == cl_b) & (y_train_pred == cl_b)]\n",
    "\n",
    "plt.figure(figsize=(8,8))\n",
    "\n",
    "def plot_digits(instances, images_per_row=10, **options):\n",
    "    size = 28\n",
    "    images_per_row = min(len(instances), images_per_row)\n",
    "    images = [instance.reshape(size,size) for instance in instances]\n",
    "    n_rows = (len(instances) - 1) // images_per_row + 1\n",
    "    row_images = []\n",
    "    n_empty = n_rows * images_per_row - len(instances)\n",
    "    images.append(np.zeros((size, size * n_empty)))\n",
    "    for row in range(n_rows):\n",
    "        rimages = images[row * images_per_row : (row + 1) * images_per_row]\n",
    "        row_images.append(np.concatenate(rimages, axis=1))\n",
    "    image = np.concatenate(row_images, axis=0)\n",
    "    plt.imshow(image, cmap = matplotlib.cm.binary, **options)\n",
    "    plt.axis(\"off\")\n",
    "    \n",
    "plt.subplot(221); plot_digits(X_aa[:25],images_per_row=5)\n",
    "plt.subplot(222); plot_digits(X_ab[:25],images_per_row=5)\n",
    "plt.subplot(223); plot_digits(X_ba[:25],images_per_row=5)\n",
    "plt.subplot(224); plot_digits(X_bb[:25],images_per_row=5)"
   ]
  },
  {
   "cell_type": "markdown",
   "metadata": {},
   "source": [
    "### 분류된 MNIST Dataset를 시각화.\n",
    "(class label,prediction) 이라 하면, 위 데이터의 구성은 다음과 같다.\n",
    "- 좌측상단 : 실제 class label 3 and 예측값 3\n",
    "- 우측상단 : 실제 class label 3 and 예측값 5\n",
    "- 좌측하단 : 실제 class label 5 and 예측값 3\n",
    "- 우측하단 : 실제 class label 5 and 예측값 5"
   ]
  },
  {
   "cell_type": "markdown",
   "metadata": {},
   "source": [
    "|   | 3  | 5  |\n",
    "|---|---|---|\n",
    "| 3  | (3,3)  | (3,5)  |\n",
    "| 5  | (5,3  |  (5,5) |"
   ]
  },
  {
   "cell_type": "markdown",
   "metadata": {},
   "source": [
    "위 Error분석 결과를 통해, training dataset에 noise가 존재함을 확인 할 수 있다. 데이터 분석과정의 디버깅은 code,model,data 3개를 모두 확인해야 하는데, 위 시각화를 통해 dataset에 사람이 3과 5를 명확하게 작성하지 않고 휘갈겨 쓴 데이터 때문에 모델이 학습 및 분류 작업을 제대로 수행하지 못함을 확인 할 수 있다. 프로젝트시 사용한 모델은 Stochastic Gradient Descent Model로써, 각 pixel 단위로 실제 class label과의 loss fuction을 구하는 모델이다. 이 모델은 'pixel 단위 loss fuction'계산을 수행하므로 3과 5의 대부분의 pixel이 서로 유사한 점이 많으므로 이러한 분류 결과가 나옴을 예상할 수 있다.\n",
    "\n",
    "\n",
    "## Image 분석에 더 좋은 Model? ( CNN ) \n",
    "최근 Image 분석에 자주 사용되는 기술은 인공신경망의 일종인 CNN(Convolution Neural Network)이다. CNN은 기존의 fully-connected layer만으로 이루어진 DNN과는 다르게 filter의 크기 단위로 이미지의 pixcel을 분석하게 되는데, 이는 '이미지에서 근처에 있는 pixel은 유사함을 보일 가능성이 있다'라는 전제를 바탕으로 한다. (https://github.com/HyunSu-Jin/CNN)\n",
    "\n"
   ]
  },
  {
   "cell_type": "markdown",
   "metadata": {},
   "source": [
    "## Multilabel Classification\n",
    "위 MNIST dataset으로 class label이 0-9 임을 예측하였지만, class label로써 binary type vector를 요구하는 경우가 있다.\n",
    "MNIST data의 예시는 다음과 같다."
   ]
  },
  {
   "cell_type": "code",
   "execution_count": 52,
   "metadata": {},
   "outputs": [
    {
     "data": {
      "text/plain": [
       "KNeighborsClassifier(algorithm='auto', leaf_size=30, metric='minkowski',\n",
       "           metric_params=None, n_jobs=1, n_neighbors=5, p=2,\n",
       "           weights='uniform')"
      ]
     },
     "execution_count": 52,
     "metadata": {},
     "output_type": "execute_result"
    }
   ],
   "source": [
    "from sklearn.neighbors import KNeighborsClassifier\n",
    "\n",
    "y_train_large = (y_train >=7)\n",
    "y_train_odd = (y_train %2 == 1)\n",
    "y_multilabel = np.c_[y_train_large,y_train_odd]\n",
    "knn_clf = KNeighborsClassifier()\n",
    "knn_clf.fit(X_train,y_multilabel)"
   ]
  },
  {
   "cell_type": "code",
   "execution_count": 53,
   "metadata": {},
   "outputs": [
    {
     "data": {
      "text/plain": [
       "array([[False,  True]], dtype=bool)"
      ]
     },
     "execution_count": 53,
     "metadata": {},
     "output_type": "execute_result"
    }
   ],
   "source": [
    "knn_clf.predict([some_digit])\n",
    "# 숫자 5 에 해당하는 data에 대해 다음과 같이 옳바른 분류를 수행."
   ]
  },
  {
   "cell_type": "markdown",
   "metadata": {},
   "source": [
    "### Multilabel Classifier의 성능평가?\n",
    "Multilabel Classification는 두개이상의 class label에 대해 예측하므로 Model이 도출해 낸 vector에서 일부는 맞고 일부는 틀린 경우가 있다.\n",
    "따라서, 기존의 한개의 class label을 평가하는 척도로 사용되던 accuracy외에 다른것이 필요하다.\n",
    "이 때 사용되는 척도 중 한개로써 각 vector의 element weight가 모두 동일하다는 가정으로 F1 score를 사용한다."
   ]
  },
  {
   "cell_type": "code",
   "execution_count": 54,
   "metadata": {
    "collapsed": true
   },
   "outputs": [],
   "source": [
    "#y_train_knn_pred = cross_val_predict(knn_clf,X_train,y_multilabel,cv=3)"
   ]
  },
  {
   "cell_type": "markdown",
   "metadata": {},
   "source": [
    "## Multioutput Classification\n",
    "Multilabel classification은 ouput vector로 각 element가 binary boolean data를 갖지만, multiouput classification은 numeric type을 가질 수 있다. 이러한 경우가 MNIST dataset에서는 다음과 같이, Noise data를 clean하는 데이터 전처리(data preprocessing)으로 활용 될 수 있다.\n"
   ]
  },
  {
   "cell_type": "code",
   "execution_count": 59,
   "metadata": {},
   "outputs": [],
   "source": [
    "import numpy as np\n",
    "noise = np.random.randint(0,100,(len(X_train),784))\n",
    "noise2 = np.random.randint(0,100,(len(X_test),784))\n",
    "X_train_noise = X_train + noise\n",
    "X_test_noise = X_test + noise2\n",
    "y_train_noise = X_train\n",
    "y_test_noise = X_test"
   ]
  },
  {
   "cell_type": "code",
   "execution_count": 62,
   "metadata": {},
   "outputs": [
    {
     "data": {
      "image/png": "[encoded data removed]",
      "text/plain": [
       "<matplotlib.figure.Figure at 0x12aa66ada0>"
      ]
     },
     "metadata": {},
     "output_type": "display_data"
    }
   ],
   "source": [
    "knn_clf.fit(X_train_noise,y_train_noise)\n",
    "clean_digit = knn_clf.predict([some_digit])\n",
    "plot_digit(clean_digit)"
   ]
  }
 ],
 "metadata": {
  "kernelspec": {
   "display_name": "Python 3",
   "language": "python",
   "name": "python3"
  },
  "language_info": {
   "codemirror_mode": {
    "name": "ipython",
    "version": 3
   },
   "file_extension": ".py",
   "mimetype": "text/x-python",
   "name": "python",
   "nbconvert_exporter": "python",
   "pygments_lexer": "ipython3",
   "version": "3.5.3"
  }
 },
 "nbformat": 4,
 "nbformat_minor": 2
}
